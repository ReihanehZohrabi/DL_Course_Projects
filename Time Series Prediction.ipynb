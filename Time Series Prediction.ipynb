{
  "nbformat": 4,
  "nbformat_minor": 0,
  "metadata": {
    "colab": {
      "provenance": [],
      "toc_visible": true
    },
    "kernelspec": {
      "name": "python3",
      "display_name": "Python 3"
    },
    "accelerator": "GPU"
  },
  "cells": [
    {
      "cell_type": "markdown",
      "metadata": {
        "id": "2hSzcqgzluB8",
        "pycharm": {
          "name": "#%% md\n"
        }
      },
      "source": [
        "# Time Series Prediction"
      ]
    },
    {
      "cell_type": "markdown",
      "metadata": {
        "id": "cQoJi3q_I6fg",
        "pycharm": {
          "name": "#%% md\n"
        }
      },
      "source": [
        "Due to the sequential charasteristics of RNNs, they can be used for time series prediction task. A time series is a series of data points indexed in time order. One example of time series is stock prices at regular intervals of time (hourly, daily, etc.). There have been many attempts to forecast stocks market, some belive predicting the market is impossible because of its total random behaviour, while some (mainly stocks technical analysts) belive not 100% accurate, but it is partly predictable, as they say \"history repeats itself\" (this phrase indicates that there might be some repetitive patterns in market's behaviour). \n",
        "\n",
        "In this practice, we are going to discover ourselves whether it is possible or not, whether we are going to be rich or broke :)  "
      ]
    },
    {
      "cell_type": "markdown",
      "metadata": {
        "id": "tBLpUtW_5Q9K",
        "pycharm": {
          "name": "#%% md\n"
        }
      },
      "source": [
        "## Stocks Prediction Using LSTM"
      ]
    },
    {
      "cell_type": "markdown",
      "metadata": {
        "id": "EfO4ddWV5ZLS",
        "pycharm": {
          "name": "#%% md\n"
        }
      },
      "source": [
        "LSTMs can be used for modeling time series (such as stocks market) as they are capable of remembering past information. Stock price prediction is similar to any other machine learning problem where we are given a set of features and we have to predict a corresponding value, in this case our features are the closing prices of stocks in the past 60 days and we want to predict next closing price. We can use LSTM to model this 60 days sequence by a hidden state as we do in all other sequence modeling problems:\n",
        "\n",
        "<p align=\"center\"><img src=\"https://drive.google.com/thumbnail?id=1hml7fG9_GKDLH1068Wq_Jk-D09FtQk17&sz=w1000-h1000\" width=\"800\"/></p>\n",
        "\n",
        "</br>\n",
        "\n",
        "We are going to solve these two following problems:\n",
        "* 1 . Predicting the exact price at time $T_i$ given prices at times $T_{i-60}$, ..., $T_{i-1}$\n",
        "\n",
        "* 2 . A simplified version of previous problem, predicting the direction of price at time $T_i$ (whether it is increasing or decreasing) given prices at times $T_{i-60}$, ..., $T_{i-1}$\n",
        "\n",
        "\n",
        "So the first task is a regression and the second one is a classification problem.\n"
      ]
    },
    {
      "cell_type": "markdown",
      "metadata": {
        "id": "JI0Ub0KuK0wG",
        "pycharm": {
          "name": "#%% md\n"
        }
      },
      "source": [
        "### 1. Predicting The Exact Price"
      ]
    },
    {
      "cell_type": "markdown",
      "metadata": {
        "id": "LSNVvB-apMAr",
        "pycharm": {
          "name": "#%% md\n"
        }
      },
      "source": [
        "**DATA:**\n",
        "\n",
        "The data that we are going to use are from ***Yahoo Finance*** (a place to look up stock market data and company news). We can accsess historical market data from *Yahoo Finance* using python ***yfinance*** module. \n",
        "\n",
        "Let's install *yfinance* module first:"
      ]
    },
    {
      "cell_type": "code",
      "metadata": {
        "id": "_zYyq0SlbY_a",
        "pycharm": {
          "name": "#%%\n"
        }
      },
      "source": [
        "from IPython.display import clear_output\n",
        "\n",
        "!pip install yfinance\n",
        "\n",
        "clear_output()"
      ],
      "execution_count": 22,
      "outputs": []
    },
    {
      "cell_type": "markdown",
      "metadata": {
        "id": "9wAwSxCbbWlt",
        "pycharm": {
          "name": "#%% md\n"
        }
      },
      "source": [
        "For training our algorithm, we will be using the Apple stock prices from 1st January 2014 to 1st January 2018. In order to evaluate the performance of the algorithm, we will be using the prices from 1st January 2018 to 1st January 2019. \n",
        "\n",
        "Let's get the data and visualise it:"
      ]
    },
    {
      "cell_type": "code",
      "metadata": {
        "id": "U2Q70Xcr3nNR",
        "outputId": "3e780f5c-79ad-48e7-843d-6e61061255a6",
        "colab": {
          "base_uri": "https://localhost:8080/",
          "height": 273
        },
        "pycharm": {
          "name": "#%%\n",
          "is_executing": true
        }
      },
      "source": [
        "\n",
        "import matplotlib.pyplot as plt\n",
        "import yfinance as yf  \n",
        "\n",
        "train_data = yf.download('AAPL','2014-01-01','2018-01-01')\n",
        "test_data = yf.download('AAPL','2018-01-01','2019-01-01')\n",
        "\n",
        "train_data.Close.plot()\n",
        "test_data.Close.plot()\n",
        "plt.legend ([\"Train\", \"Test\"])\n",
        "\n",
        "clear_output()\n",
        "plt.show()"
      ],
      "execution_count": 23,
      "outputs": [
        {
          "output_type": "display_data",
          "data": {
            "text/plain": [
              "<Figure size 432x288 with 1 Axes>"
            ],
            "image/png": "[encoded data removed]"
          },
          "metadata": {
            "needs_background": "light"
          }
        }
      ]
    },
    {
      "cell_type": "markdown",
      "metadata": {
        "id": "AIIDgdQfcSK3",
        "pycharm": {
          "name": "#%% md\n"
        }
      },
      "source": [
        "As you can see our data is just a sequence of numbers ordered by time. \n",
        "\n",
        "In order to normalize our data we scale them between 0 and 1: "
      ]
    },
    {
      "cell_type": "code",
      "metadata": {
        "id": "8ge5thz254Kf",
        "outputId": "cc4ecb0c-82ad-4129-abd7-ab1926ce10da",
        "colab": {
          "base_uri": "https://localhost:8080/"
        },
        "pycharm": {
          "name": "#%%\n",
          "is_executing": true
        }
      },
      "source": [
        "from sklearn.preprocessing import MinMaxScaler \n",
        "import numpy as np\n",
        "scaler = MinMaxScaler(feature_range = (0, 1)).fit(train_data.Close.values.reshape(-1, 1))\n",
        "\n",
        "train_scaled = scaler.transform(train_data.Close.values.reshape(-1, 1))\n",
        "test_scaled = scaler.transform(test_data.Close.values.reshape(-1, 1))  \n",
        "\n",
        "print (\"train_scaled.shape :\", train_scaled.shape)\n",
        "print (\"test_scaled.shape :\", test_scaled.shape)"
      ],
      "execution_count": 24,
      "outputs": [
        {
          "output_type": "stream",
          "name": "stdout",
          "text": [
            "train_scaled.shape : (1007, 1)\n",
            "test_scaled.shape : (251, 1)\n"
          ]
        }
      ]
    },
    {
      "cell_type": "markdown",
      "metadata": {
        "id": "_9M3_Ch_eRFx",
        "pycharm": {
          "name": "#%% md\n"
        }
      },
      "source": [
        "Now we create our input output pairs from our sequence:"
      ]
    },
    {
      "cell_type": "code",
      "metadata": {
        "id": "NOs8KBcj6mpG",
        "pycharm": {
          "name": "#%%\n"
        }
      },
      "source": [
        "train_features_set = []  \n",
        "train_labels = []  \n",
        "for i in range(60, train_scaled.shape[0]):  \n",
        "    train_features_set.append(train_scaled[i-60:i, 0])\n",
        "    train_labels.append(train_scaled[i, 0])"
      ],
      "execution_count": 4,
      "outputs": []
    },
    {
      "cell_type": "markdown",
      "metadata": {
        "id": "zWmPH1aqfdzH",
        "pycharm": {
          "name": "#%% md\n"
        }
      },
      "source": [
        "We need to convert these lists to the numpy arrays before we can use them for training. Then in order to train LSTM on our data, we need to convert our data into the shape accepted by the LSTM. We need to convert our data into three-dimensional format. The first dimension is the number of records or rows in the dataset which is 1007 in our case. The second dimension is the number of time steps which is 60 while the last dimension is the number of indicators. Since we are only using one feature, i.e Closing price, the number of indicators will be one."
      ]
    },
    {
      "cell_type": "code",
      "metadata": {
        "id": "bVh8Igbrfw8L",
        "pycharm": {
          "name": "#%%\n"
        }
      },
      "source": [
        "train_features_set, train_labels = np.array(train_features_set), np.array(train_labels)\n",
        "train_features_set = np.reshape(train_features_set, (train_features_set.shape[0], train_features_set.shape[1], 1))"
      ],
      "execution_count": 5,
      "outputs": []
    },
    {
      "cell_type": "markdown",
      "metadata": {
        "id": "tI8HP9NqiYzv",
        "pycharm": {
          "name": "#%% md\n"
        }
      },
      "source": [
        "Now let's create and train a simple model, our model has a stack of 4 lstm layers and a single output layer: "
      ]
    },
    {
      "cell_type": "code",
      "metadata": {
        "id": "H0UHr-Ef8pHr",
        "pycharm": {
          "name": "#%%\n"
        }
      },
      "source": [
        "from keras.models import Sequential  \n",
        "from keras.layers import Dense  \n",
        "from keras.layers import LSTM  \n",
        "from keras.layers import Dropout  \n",
        "\n",
        "model = Sequential()\n",
        "model.add(LSTM(units=50, return_sequences=True, input_shape=(train_features_set.shape[1], 1)))\n",
        "model.add(Dropout(0.2))\n",
        "\n",
        "model.add(LSTM(units=50, return_sequences=True))  \n",
        "model.add(Dropout(0.2))\n",
        "\n",
        "model.add(LSTM(units=50, return_sequences=True))  \n",
        "model.add(Dropout(0.2))\n",
        "\n",
        "model.add(LSTM(units=50))  \n",
        "model.add(Dropout(0.2))\n",
        "\n",
        "# we have a single output so this layer has 1 unit\n",
        "model.add(Dense(units = 1))\n",
        "\n",
        "model.compile(optimizer = 'adam', loss = 'mean_squared_error')\n",
        "\n",
        "model.fit(train_features_set, train_labels, epochs = 100, batch_size = 30)\n",
        "\n",
        "clear_output()"
      ],
      "execution_count": 6,
      "outputs": []
    },
    {
      "cell_type": "markdown",
      "metadata": {
        "id": "6n8LuRDDqKkL",
        "pycharm": {
          "name": "#%% md\n"
        }
      },
      "source": [
        "Now we create our test features set similar to what we did with our training set:"
      ]
    },
    {
      "cell_type": "code",
      "metadata": {
        "id": "8_Z0-AoCqZwV",
        "pycharm": {
          "name": "#%%\n"
        }
      },
      "source": [
        "test_scaled = scaler.transform(test_data.Close.values.reshape(-1, 1))  \n",
        "\n",
        "test_features_set = []  \n",
        "for i in range(60, test_scaled.shape[0]):  \n",
        "    test_features_set.append(test_scaled[i-60:i, 0])\n",
        "    \n",
        "test_features_set = np.array(test_features_set)  \n",
        "test_features_set = np.reshape(test_features_set, (test_features_set.shape[0], test_features_set.shape[1], 1))"
      ],
      "execution_count": 7,
      "outputs": []
    },
    {
      "cell_type": "markdown",
      "metadata": {
        "id": "19NNvTHHqsdH",
        "pycharm": {
          "name": "#%% md\n"
        }
      },
      "source": [
        "And finaly let's see the results:"
      ]
    },
    {
      "cell_type": "code",
      "metadata": {
        "id": "nU6kKlck-UAL",
        "outputId": "1e992bb0-ab77-45e9-c945-f03a5b1227b8",
        "colab": {
          "base_uri": "https://localhost:8080/",
          "height": 299
        },
        "pycharm": {
          "name": "#%%\n",
          "is_executing": true
        }
      },
      "source": [
        "predictions = model.predict(test_features_set)\n",
        "predictions = scaler.inverse_transform(predictions)  \n",
        "  \n",
        "plt.plot(test_data.Close.values[60:], color='blue', label='Actual Apple Stock Price')  \n",
        "plt.plot(predictions , color='red', label='Predicted Apple Stock Price')  \n",
        "plt.title('Apple Stock Price Prediction on Test Set')    \n",
        "plt.ylabel('Apple Stock Price')  \n",
        "plt.legend()  \n",
        "plt.show()"
      ],
      "execution_count": 8,
      "outputs": [
        {
          "output_type": "stream",
          "name": "stdout",
          "text": [
            "6/6 [==============================] - 1s 7ms/step\n"
          ]
        },
        {
          "output_type": "display_data",
          "data": {
            "text/plain": [
              "<Figure size 432x288 with 1 Axes>"
            ],
            "image/png": "[encoded data removed]"
          },
          "metadata": {
            "needs_background": "light"
          }
        }
      ]
    },
    {
      "cell_type": "markdown",
      "metadata": {
        "id": "Ujgd8pNxre8D",
        "pycharm": {
          "name": "#%% md\n"
        }
      },
      "source": [
        "* At first sight, it seems the predictions are following  pretty well the actual trend. What do you think about the result? Are you willing to risk using this predictions in real world? "
      ]
    },
    {
      "cell_type": "markdown",
      "metadata": {
        "id": "stxlKK1utSvU",
        "pycharm": {
          "name": "#%% md\n"
        }
      },
      "source": [
        "$\\color{red}{\\text{Write you answer here}}$\n",
        "\n",
        "No, Despite the heavily popularized approach of attempted stock price prediction with LSTMs, such a thing is unfortunately entirely mythical. As you can see above, the model can predict the trend of the actual stock prices very closely, but the accuracy of the model can be enhanced by training with more data and increasing the LSTM layers\n",
        "\n",
        "Stock prices are essentially random walks, with each subsequent future price being independent from the last. It's not that LSTMs are a weak model without enough predictive power— they can be incredibly strong time series and sequential data predictors — rather, it is the fact that there is nothing that is predictable to begin with. Randomness by its very definition can not be reliably predicted. Therefore, attempting to learn sequential order dependance on data that itself has no sequential order dependance is, obviously, impossible.\n",
        "\n",
        "Regardless, previous prices alone do not provide enough information anyway. Stock markets are incredibly complex and intricate, any occasional non-random changes influenced by hundreds of variables in the real world can not possibly be accounted for by setting up the prediction problem as just using previous closing prices alone."
      ]
    },
    {
      "cell_type": "markdown",
      "metadata": {
        "id": "zzlrh1NHtdnS",
        "pycharm": {
          "name": "#%% md\n"
        }
      },
      "source": [
        "### 2. Predicting The Direction"
      ]
    },
    {
      "cell_type": "markdown",
      "metadata": {
        "id": "VHLBKZxXtpOP",
        "pycharm": {
          "name": "#%% md\n"
        }
      },
      "source": [
        "Previous model can be evaluated  just visually. We can evaluate a classification task using its special measures (such as f-score or accuracy) much better than a regression task. So in order to finaly decide whether the stocks market prediction is practical or not, we define this second task.\n",
        "\n",
        "Implement a model similar to previous one, this time the task is to predict whether the price is going to increase or decrease (output will be either 1 or 0 respectively) at time $T_i$ given prices at times $T_{i-60}$, ..., $T_{i-1}$ :"
      ]
    },
    {
      "cell_type": "code",
      "metadata": {
        "id": "9a9C84JpuUiV",
        "pycharm": {
          "name": "#%%\n"
        }
      },
      "source": [
        "########################################\n",
        "#     Put your implementation here     #\n",
        "########################################\n",
        "# First we are going to make input output pairs for classification task \n",
        "#in order to have binary targets 0 for dec and 1 for increasing order\n",
        "train_features_set = []  \n",
        "train_labels = []  \n",
        "for i in range(60, train_scaled.shape[0]):  \n",
        "    train_features_set.append(train_scaled[i-60:i, 0])\n",
        "    if train_scaled[i,0] >= train_scaled[i-1,0]:\n",
        "        train_labels.append(1)\n",
        "    else:\n",
        "        train_labels.append(0)\n",
        "\n",
        "train_features_set, train_labels = np.array(train_features_set), np.array(train_labels)\n",
        "train_features_set = np.reshape(train_features_set, (train_features_set.shape[0], train_features_set.shape[1], 1))\n",
        "\n",
        "\n",
        "classification_model = Sequential()\n",
        "classification_model.add(LSTM(units=50, return_sequences=True, input_shape=(train_features_set.shape[1], 1)))\n",
        "classification_model.add(Dropout(0.2))\n",
        "\n",
        "classification_model.add(LSTM(units=50, return_sequences=True))  \n",
        "classification_model.add(Dropout(0.2))\n",
        "\n",
        "classification_model.add(LSTM(units=50, return_sequences=True))  \n",
        "classification_model.add(Dropout(0.2))\n",
        "\n",
        "classification_model.add(LSTM(units=50))  \n",
        "classification_model.add(Dropout(0.2))\n",
        "\n",
        "#here we add sigmoid activation function to the binary classifiers dense layer\n",
        "classification_model.add(Dense(units = 1,activation='sigmoid'))\n",
        "#change the loss to binray cross entropy for classification\n",
        "classification_model.compile(optimizer = 'adam', loss = 'binary_crossentropy')\n",
        "\n",
        "classification_model.fit(train_features_set, train_labels, epochs = 100, batch_size = 30)\n",
        "\n",
        "clear_output()"
      ],
      "execution_count": 25,
      "outputs": []
    },
    {
      "cell_type": "markdown",
      "metadata": {
        "id": "FhvzyKn_ucd0",
        "pycharm": {
          "name": "#%% md\n"
        }
      },
      "source": [
        "Evaluate your trained model using the test set and report accuracy and f1-score your model archived: "
      ]
    },
    {
      "cell_type": "code",
      "metadata": {
        "id": "NW-MGFhgu4Lk",
        "pycharm": {
          "name": "#%%\n"
        }
      },
      "source": [
        "########################################\n",
        "#     Put your implementation here     #\n",
        "########################################\n",
        "test_scaled = scaler.transform(test_data.Close.values.reshape(-1, 1))  \n",
        "\n",
        "test_features_set = []  \n",
        "test_targets = []\n",
        "for i in range(60, test_scaled.shape[0]):  \n",
        "    test_features_set.append(test_scaled[i-60:i, 0])\n",
        "    if test_scaled[i,0] >= test_scaled[i-1,0]:\n",
        "        test_targets.append(1)\n",
        "    else:\n",
        "        test_targets.append(0)\n",
        "\n",
        "test_features_set = np.array(test_features_set)  \n",
        "test_features_set = np.reshape(test_features_set, (test_features_set.shape[0], test_features_set.shape[1], 1))\n",
        "test_targets = np.array(test_targets)"
      ],
      "execution_count": 26,
      "outputs": []
    },
    {
      "cell_type": "code",
      "source": [
        "model.evaluate(test_features_set,  test_targets, verbose=3)\n",
        "from sklearn.metrics import classification_report\n",
        "\n",
        "y_pred = model.predict(test_features_set, batch_size=64, verbose=1)\n",
        "y_pred_bool = np.argmax(y_pred, axis=1)\n",
        "\n",
        "print(classification_report(test_targets, y_pred_bool))"
      ],
      "metadata": {
        "colab": {
          "base_uri": "https://localhost:8080/"
        },
        "id": "fK779GT4wXMD",
        "outputId": "647fb1a5-3a4c-4741-8c94-911b12165ccb"
      },
      "execution_count": 27,
      "outputs": [
        {
          "output_type": "stream",
          "name": "stdout",
          "text": [
            "3/3 [==============================] - 0s 8ms/step\n",
            "              precision    recall  f1-score   support\n",
            "\n",
            "           0       0.47      1.00      0.64        89\n",
            "           1       0.00      0.00      0.00       102\n",
            "\n",
            "    accuracy                           0.47       191\n",
            "   macro avg       0.23      0.50      0.32       191\n",
            "weighted avg       0.22      0.47      0.30       191\n",
            "\n"
          ]
        },
        {
          "output_type": "stream",
          "name": "stderr",
          "text": [
            "/usr/local/lib/python3.8/dist-packages/sklearn/metrics/_classification.py:1318: UndefinedMetricWarning: Precision and F-score are ill-defined and being set to 0.0 in labels with no predicted samples. Use `zero_division` parameter to control this behavior.\n",
            "  _warn_prf(average, modifier, msg_start, len(result))\n",
            "/usr/local/lib/python3.8/dist-packages/sklearn/metrics/_classification.py:1318: UndefinedMetricWarning: Precision and F-score are ill-defined and being set to 0.0 in labels with no predicted samples. Use `zero_division` parameter to control this behavior.\n",
            "  _warn_prf(average, modifier, msg_start, len(result))\n",
            "/usr/local/lib/python3.8/dist-packages/sklearn/metrics/_classification.py:1318: UndefinedMetricWarning: Precision and F-score are ill-defined and being set to 0.0 in labels with no predicted samples. Use `zero_division` parameter to control this behavior.\n",
            "  _warn_prf(average, modifier, msg_start, len(result))\n"
          ]
        }
      ]
    },
    {
      "cell_type": "markdown",
      "metadata": {
        "id": "DaFxn4MR_4-4",
        "pycharm": {
          "name": "#%% md\n"
        }
      },
      "source": [
        "Do not worry if your results are not as promising as before :))\n",
        "* Comparing new results with previuos ones, why do you think this happens? Doesn't this task supposed to be an easier version of the previous one (if you are able to predict the actual price, you are already able to predict the direction of price trend)? Explain your toughts:\n"
      ]
    },
    {
      "cell_type": "markdown",
      "metadata": {
        "id": "byIh3cwmBLt9",
        "pycharm": {
          "name": "#%% md\n"
        }
      },
      "source": [
        "$\\color{red}{\\text{Write you answer here}}$\n",
        "\n",
        "For regression task the model is trained to predict the next value based on 60 time steps before.In other words, the target is based on those 60 time steps, but for classification as we made the targets based on the change on just the last two time steps maybe it does not capture the trend precisely. Maybe it is better to have bigger window to model the trend. Thus, applying this nonlinear operation to get targets makes it hard for model to perform well."
      ]
    },
    {
      "cell_type": "markdown",
      "metadata": {
        "id": "v-ekiL12B6th",
        "pycharm": {
          "name": "#%% md\n"
        }
      },
      "source": [
        "* Intuitively explain what kind of properties do you think a time series need to have in order to be predictable? "
      ]
    },
    {
      "cell_type": "markdown",
      "metadata": {
        "id": "uAtpWmGFEIG4",
        "pycharm": {
          "name": "#%% md\n"
        }
      },
      "source": [
        "$\\color{red}{\\text{Write you answer here}}$\n",
        "\n",
        "Some properties that are desirable are as follow:\n",
        "\n",
        "**Autocorrelation**\n",
        "It is a representation of the degree of similarity between the time series and a lagged version of itself. High autocorrelation values mean that the future is strongly correlated to the past and maybe more predictable.\n",
        "\n",
        "**Stationarity**\n",
        "A key idea in time series analysis is that of stationarity. Stationarity is considered as an important precondition for the analysis of the correlational structure in the time series. A time series is considered stationary if its behavior does not change over time. This means, for example, that the values always tend to vary about the same level and that their variability is constant over time. Often, stock prices are not a stationary process, since we might see a growing trend, or its volatility might increase over time (meaning that variance is changing).\n",
        "Ideally, we want to have a stationary time series for modelling. Of course, not all of them are stationary, but we can make different transformations to make them stationary.\n",
        "\n",
        "**Seasonality**\n",
        "meaning that there is a regularly repeating pattern of highs and lows related to calendar time such as seasons, quarters, months, days of the week, and so on.\n"
      ]
    }
  ]
}